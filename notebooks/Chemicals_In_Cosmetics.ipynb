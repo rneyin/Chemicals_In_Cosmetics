{
 "cells": [
  {
   "cell_type": "code",
   "execution_count": null,
   "id": "03329605",
   "metadata": {},
   "outputs": [],
   "source": [
    "import pandas as pd\n",
    "import numpy as np\n",
    "import matplotlib.pyplot as plt\n",
    "import seaborn as sns"
   ]
  },
  {
   "cell_type": "code",
   "execution_count": null,
   "id": "03c88b74",
   "metadata": {},
   "outputs": [],
   "source": [
    "#show all the columns\n",
    "pd.set_option('display.max_columns', None)\n",
    "pd.set_option('display.max_rows', None)"
   ]
  },
  {
   "cell_type": "code",
   "execution_count": null,
   "id": "d1ab978e",
   "metadata": {},
   "outputs": [],
   "source": [
    "cosme = pd.read_csv('../data/cscpopendata.csv')\n",
    "cosme"
   ]
  },
  {
   "cell_type": "code",
   "execution_count": null,
   "id": "c6ff2808",
   "metadata": {},
   "outputs": [],
   "source": [
    "cosme.info()"
   ]
  },
  {
   "cell_type": "code",
   "execution_count": null,
   "id": "80c4243d",
   "metadata": {},
   "outputs": [],
   "source": [
    "#lists how many times a particular chemica was used in a product from a specific company\n",
    "cosme.groupby(['CompanyName', 'ChemicalName'])['ChemicalId'].count().reset_index().rename(columns ={'ChemicalId':'Countofchems'})"
   ]
  },
  {
   "cell_type": "code",
   "execution_count": null,
   "id": "9edc589b",
   "metadata": {
    "scrolled": false
   },
   "outputs": [],
   "source": [
    "cosme['BrandName'].value_counts()"
   ]
  },
  {
   "cell_type": "code",
   "execution_count": null,
   "id": "7ffd4fc4",
   "metadata": {},
   "outputs": [],
   "source": [
    "cosme['ChemicalName'].value_counts().reset_index()"
   ]
  },
  {
   "cell_type": "code",
   "execution_count": null,
   "id": "fa4c3b2c",
   "metadata": {},
   "outputs": [],
   "source": []
  }
 ],
 "metadata": {
  "kernelspec": {
   "display_name": "Python 3 (ipykernel)",
   "language": "python",
   "name": "python3"
  },
  "language_info": {
   "codemirror_mode": {
    "name": "ipython",
    "version": 3
   },
   "file_extension": ".py",
   "mimetype": "text/x-python",
   "name": "python",
   "nbconvert_exporter": "python",
   "pygments_lexer": "ipython3",
   "version": "3.11.7"
  }
 },
 "nbformat": 4,
 "nbformat_minor": 5
}
